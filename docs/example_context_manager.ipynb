{
 "cells": [
  {
   "cell_type": "markdown",
   "id": "0ab13e72-522a-49e0-927a-36a61ab58fd1",
   "metadata": {},
   "source": [
    "# Example usage with context manager\n",
    "\n",
    "Using contex manager of `imcntr`."
   ]
  },
  {
   "cell_type": "markdown",
   "id": "b353e8e3-5a1e-4977-a5d6-531cbe35d7c7",
   "metadata": {},
   "source": [
    "## Importing the required library\n",
    "Importing the imcntr module as cntr, which handles communication."
   ]
  },
  {
   "cell_type": "code",
   "execution_count": 4,
   "id": "89a9397d-9a33-4f00-987f-930f07a42b67",
   "metadata": {},
   "outputs": [],
   "source": [
    "import imcntr as cntr"
   ]
  },
  {
   "cell_type": "markdown",
   "id": "f7fb634d-9b1a-4b0f-ade7-ca10dba8c5a9",
   "metadata": {},
   "source": [
    "## Define a Communication class inheriting from `cntr.MessageExchange`\n",
    "This class extends the `cntr.MessageExchange` class, providing a way to manage serial communication by overriding the send and receive methods."
   ]
  },
  {
   "cell_type": "code",
   "execution_count": 5,
   "id": "a7615296-4530-4c14-8e2b-8fbf0824476f",
   "metadata": {},
   "outputs": [],
   "source": [
    "class Communication(cntr.MessageExchange):\n",
    "\n",
    "    # Override the 'receive' method to customize how received messages are handled\n",
    "    def receive(self, message):\n",
    "        print(f\"<< {str(message)}\")  # Print the received message with a formatted prefix\n",
    "        super().receive(message)  # Call the parent class's receive method to handle the message normally\n",
    "\n",
    "    # Overriding the 'send' method to customize message handling when sending a message\n",
    "    def send(self, message):\n",
    "        print(f\">> {str(message)}\")  # Print the sent message with a formatted prefix\n",
    "        super().send(message)  # Call the parent class's send method to send the message normally"
   ]
  },
  {
   "cell_type": "markdown",
   "id": "1c057346-22ee-4b95-8962-ba4833a17c8a",
   "metadata": {},
   "source": [
    "## Main block to execute commands for shutter\n",
    "Sets up communication using the `Communication` class, and address shutter with command open and close."
   ]
  },
  {
   "cell_type": "code",
   "execution_count": 6,
   "id": "a45beb8b-59af-4652-8024-984ae8a02b3e",
   "metadata": {},
   "outputs": [
    {
     "name": "stdin",
     "output_type": "stream",
     "text": [
      "Port:  /dev/ttyS0\n"
     ]
    },
    {
     "ename": "RuntimeError",
     "evalue": "A timeout occurred when waiting for incoming message controller_ready!",
     "output_type": "error",
     "traceback": [
      "\u001b[0;31m---------------------------------------------------------------------------\u001b[0m",
      "\u001b[0;31mRuntimeError\u001b[0m                              Traceback (most recent call last)",
      "Cell \u001b[0;32mIn[6], line 14\u001b[0m\n\u001b[1;32m     11\u001b[0m shutter \u001b[38;5;241m=\u001b[39m cntr\u001b[38;5;241m.\u001b[39mShutter(com, timeout\u001b[38;5;241m=\u001b[39m\u001b[38;5;241m10\u001b[39m)\n\u001b[1;32m     13\u001b[0m \u001b[38;5;66;03m# Wait for the controller to be ready before proceeding\u001b[39;00m\n\u001b[0;32m---> 14\u001b[0m \u001b[43mcontroller\u001b[49m\u001b[38;5;241;43m.\u001b[39;49m\u001b[43mready\u001b[49m\u001b[38;5;241;43m.\u001b[39;49m\u001b[43mwait\u001b[49m\u001b[43m(\u001b[49m\u001b[43m)\u001b[49m\n\u001b[1;32m     16\u001b[0m \u001b[38;5;66;03m# Open the shutter (may trigger an action in hardware or simulate it)\u001b[39;00m\n\u001b[1;32m     17\u001b[0m shutter\u001b[38;5;241m.\u001b[39mopen()\n",
      "File \u001b[0;32m~/ownCloud/Unterlagen TRIGA/Radiographie/Software/Python_Scripts/imcntr/src/imcntr/imcntr_communication.py:71\u001b[0m, in \u001b[0;36mWaitForMessage.wait\u001b[0;34m(self, timeout)\u001b[0m\n\u001b[1;32m     69\u001b[0m \u001b[38;5;28mself\u001b[39m\u001b[38;5;241m.\u001b[39m_receive_observer\u001b[38;5;241m.\u001b[39msubscribe(\u001b[38;5;28mself\u001b[39m\u001b[38;5;241m.\u001b[39m_receive_message)\n\u001b[1;32m     70\u001b[0m \u001b[38;5;28;01mif\u001b[39;00m \u001b[38;5;129;01mnot\u001b[39;00m \u001b[38;5;28mself\u001b[39m\u001b[38;5;241m.\u001b[39m_condition\u001b[38;5;241m.\u001b[39mwait(timeout\u001b[38;5;241m=\u001b[39mtimeout):\n\u001b[0;32m---> 71\u001b[0m     \u001b[38;5;28;01mraise\u001b[39;00m \u001b[38;5;167;01mRuntimeError\u001b[39;00m(\u001b[38;5;124mf\u001b[39m\u001b[38;5;124m\"\u001b[39m\u001b[38;5;124mA timeout occurred when waiting for incoming message \u001b[39m\u001b[38;5;132;01m{\u001b[39;00m\u001b[38;5;28mself\u001b[39m\u001b[38;5;241m.\u001b[39mexpect_message\u001b[38;5;132;01m}\u001b[39;00m\u001b[38;5;124m!\u001b[39m\u001b[38;5;124m\"\u001b[39m)\n\u001b[1;32m     72\u001b[0m \u001b[38;5;28mself\u001b[39m\u001b[38;5;241m.\u001b[39m_receive_observer\u001b[38;5;241m.\u001b[39munsubscribe(\u001b[38;5;28mself\u001b[39m\u001b[38;5;241m.\u001b[39m_receive_message)\n",
      "\u001b[0;31mRuntimeError\u001b[0m: A timeout occurred when waiting for incoming message controller_ready!"
     ]
    }
   ],
   "source": [
    "if __name__ == '__main__':\n",
    "    # Prompt the user for input to specify the port for communication\n",
    "    port = input(\"Port: \")\n",
    "\n",
    "    # Create an instance of the Communication class using the provided port\n",
    "    with Communication(port) as com:\n",
    "        # Initialize a Controller instance with a timeout of 10 seconds\n",
    "        controller = cntr.Controller(com, timeout=10)\n",
    "\n",
    "        # Initialize a Shutter instance with a timeout of 10 seconds\n",
    "        shutter = cntr.Shutter(com, timeout=10)\n",
    "\n",
    "        # Wait for the controller to be ready before proceeding\n",
    "        controller.ready.wait()\n",
    "\n",
    "        # Open the shutter (may trigger an action in hardware or simulate it)\n",
    "        shutter.open()\n",
    "\n",
    "        # Wait for the shutter to finish opening (synchronization step)\n",
    "        shutter.open.wait()\n",
    "\n",
    "        # Close the shutter (may trigger an action in hardware or simulate it)\n",
    "        shutter.close()\n",
    "\n",
    "        # Wait for the shutter to finish closing (synchronization step)\n",
    "        shutter.close.wait()\n"
   ]
  },
  {
   "cell_type": "code",
   "execution_count": null,
   "id": "2f04aebb-e1b9-40db-baf5-951f6cef9413",
   "metadata": {},
   "outputs": [],
   "source": []
  }
 ],
 "metadata": {
  "kernelspec": {
   "display_name": "Python 3 (ipykernel)",
   "language": "python",
   "name": "python3"
  },
  "language_info": {
   "codemirror_mode": {
    "name": "ipython",
    "version": 3
   },
   "file_extension": ".py",
   "mimetype": "text/x-python",
   "name": "python",
   "nbconvert_exporter": "python",
   "pygments_lexer": "ipython3",
   "version": "3.9.20"
  }
 },
 "nbformat": 4,
 "nbformat_minor": 5
}
