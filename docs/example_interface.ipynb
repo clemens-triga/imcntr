{
 "cells": [
  {
   "cell_type": "markdown",
   "id": "1565c178-9de5-4abd-a5ba-90ea4e292756",
   "metadata": {},
   "source": [
    "# Example simple interface\n",
    "\n",
    "Creating a simple interface for imaging controller"
   ]
  },
  {
   "cell_type": "markdown",
   "id": "8403e317-1179-4291-8ab1-8d1e20a39b10",
   "metadata": {},
   "source": [
    "## Import the required modules\n",
    "Import the imcntr module as cntr, which handles communication\n",
    "Import the list_ports from `serial.tools` for listing serial ports"
   ]
  },
  {
   "cell_type": "code",
   "execution_count": 1,
   "id": "4f044fd6-9c58-4044-8c6a-205b3b85f336",
   "metadata": {},
   "outputs": [],
   "source": [
    "import imcntr as cntr\n",
    "import serial.tools.list_ports"
   ]
  },
  {
   "cell_type": "markdown",
   "id": "ec800461-c753-4186-a640-39a7c132f905",
   "metadata": {},
   "source": [
    "## Define a Communication class inheriting from `cntr.SerialCommunication`\n",
    "This class extends the `cntr.SerialCommunication` class, providing a way to manage serial communication by overriding the send and receive methods."
   ]
  },
  {
   "cell_type": "code",
   "execution_count": 2,
   "id": "2f65acde-aa50-436a-9de9-df1b736f8c1d",
   "metadata": {},
   "outputs": [],
   "source": [
    "class Communication(cntr.SerialCommunication):\n",
    "\n",
    "    # Override the 'receive' method to customize how received messages are handled\n",
    "    def receive(self, message):\n",
    "        print(f\"<< {str(message)}\")  # Print the received message with a formatted prefix\n",
    "\n",
    "    # Overriding the 'send' method to customize message handling when sending a message\n",
    "    def send(self, message):\n",
    "        print(f\">> {str(message)}\")  # Print the sent message with a formatted prefix\n",
    "        super().send(message)  # Call the parent class's send method to actually send the message"
   ]
  },
  {
   "cell_type": "markdown",
   "id": "fc9cb1f9-0292-4d1c-a57a-2a6224fe1494",
   "metadata": {},
   "source": [
    "## Main execution block for when the script is run\n",
    "The script lists available serial ports and allows the user to select one by its index.\n",
    "After selecting a port, the program attempts to establish a serial connection.\n",
    "The program enters an interactive mode where the user can enter commands to control the system."
   ]
  },
  {
   "cell_type": "code",
   "execution_count": 3,
   "id": "e578e528-424e-4e49-9af0-1f021d4d3b23",
   "metadata": {},
   "outputs": [
    {
     "name": "stdout",
     "output_type": "stream",
     "text": [
      "[ 0 ] = /dev/ttyS4\n",
      "[ 1 ] = /dev/ttyS0\n"
     ]
    },
    {
     "name": "stdin",
     "output_type": "stream",
     "text": [
      "Port [number]:  1\n"
     ]
    },
    {
     "name": "stdout",
     "output_type": "stream",
     "text": [
      "connected\n",
      "Type in 'help' for further information or 'quit' to exit.\n"
     ]
    },
    {
     "name": "stdin",
     "output_type": "stream",
     "text": [
      " help\n"
     ]
    },
    {
     "name": "stdout",
     "output_type": "stream",
     "text": [
      "Controller commands:\n",
      " 'move_out'\tmove sample out\n",
      " 'move_in'\tmove sample in\n",
      " 'rot_cw+[STEP]'\trotate sample clockwise for [STEP]\n",
      " 'rot_ccw+[STEP]'\trotate sample counterclockwise for [STEP]\n",
      " 'open_shutter'\topen shutter\n",
      " 'close_shutter'\tclose shutter\n",
      " 'stop_lin'\tstop linear movement\n",
      " 'stop_rot'\tstop rotational movement\n",
      " 'stop_all'\tstop all movement\n",
      " 'quit'\texit program\n"
     ]
    },
    {
     "name": "stdin",
     "output_type": "stream",
     "text": [
      " quit\n"
     ]
    },
    {
     "name": "stdout",
     "output_type": "stream",
     "text": [
      "disconnected\n"
     ]
    }
   ],
   "source": [
    "if __name__ == '__main__':\n",
    "    # Create an instance of the Communication class\n",
    "    com = Communication()\n",
    "\n",
    "    # Initialize an empty list to store the available serial ports\n",
    "    ports = []\n",
    "\n",
    "    # Loop through the available serial ports and append the device names to the 'ports' list\n",
    "    for port in serial.tools.list_ports.comports():\n",
    "        ports.append(port.device)\n",
    "\n",
    "    # If ports were found, print the list with an index for each available port\n",
    "    if ports:\n",
    "        for p in ports:\n",
    "            print(\"[\", ports.index(p), \"] =\", p)\n",
    "    else:\n",
    "        # If no ports are found, print a message and exit the program\n",
    "        print(\"No serial port found!\")\n",
    "        exit(0)\n",
    "\n",
    "    # Ask the user to select a serial port by entering its corresponding index\n",
    "    while True:\n",
    "        try:\n",
    "            port = int(input(\"Port [number]: \"))  # User input for the port number\n",
    "            if port >= len(ports):  # Validate if the port number is within the available range\n",
    "                print(\"That's not a valid port!\")\n",
    "            else:\n",
    "                break  # Exit the loop if a valid port number is entered\n",
    "        except:\n",
    "            # If an error occurs (e.g., invalid input), exit the program\n",
    "            exit(0)\n",
    "\n",
    "    # Set the selected port for the communication object\n",
    "    com.connection = str(ports[int(port)])\n",
    "    com.connect()  # Try to establish a connection to the selected port\n",
    "\n",
    "    # If connected, print the confirmation message; otherwise, exit the program\n",
    "    if com.connected:\n",
    "        print(\"connected\")\n",
    "    else:\n",
    "        print(\"Connection not possible.\")\n",
    "        exit(0)\n",
    "\n",
    "    # Provide user instructions about available commands\n",
    "    print(\"Type in 'help' for further information or 'quit' to exit.\")\n",
    "\n",
    "    # Start the command input loop\n",
    "    while True:\n",
    "        # Wait for the user to input a command\n",
    "        command = input()\n",
    "        if command == 'quit':\n",
    "            break  # Exit the loop and the program if 'quit' is entered\n",
    "        elif command == 'help':\n",
    "            # If 'help' is entered, display available controller commands\n",
    "            print(\"Controller commands:\\n\",\n",
    "            \"'move_out'\\tmove sample out\\n\",\n",
    "            \"'move_in'\\tmove sample in\\n\",\n",
    "            \"'rot_cw+[STEP]'\\trotate sample clockwise for [STEP]\\n\",\n",
    "            \"'rot_ccw+[STEP]'\\trotate sample counterclockwise for [STEP]\\n\",\n",
    "            \"'open_shutter'\\topen shutter\\n\",\n",
    "            \"'close_shutter'\\tclose shutter\\n\",\n",
    "            \"'stop_lin'\\tstop linear movement\\n\",\n",
    "            \"'stop_rot'\\tstop rotational movement\\n\",\n",
    "            \"'stop_all'\\tstop all movement\\n\",\n",
    "            \"'quit'\\texit program\")\n",
    "        else:\n",
    "            # If any other command is entered, send the command to the connected device\n",
    "            com.send(command)\n",
    "\n",
    "    # Disconnect the communication after exiting the loop\n",
    "    com.disconnect()\n",
    "\n",
    "    # Print the disconnection status message based on whether the connection was closed successfully\n",
    "    if not com.connected:\n",
    "        print(\"disconnected\")\n",
    "    else:\n",
    "        print(\"Quit ungraceful without disconnecting!\")\n",
    "\n",
    "    exit(0)  # Exit the program"
   ]
  },
  {
   "cell_type": "code",
   "execution_count": null,
   "id": "3a716867-6250-4545-be91-04a90d9bb823",
   "metadata": {},
   "outputs": [],
   "source": []
  }
 ],
 "metadata": {
  "kernelspec": {
   "display_name": "Python 3 (ipykernel)",
   "language": "python",
   "name": "python3"
  },
  "language_info": {
   "codemirror_mode": {
    "name": "ipython",
    "version": 3
   },
   "file_extension": ".py",
   "mimetype": "text/x-python",
   "name": "python",
   "nbconvert_exporter": "python",
   "pygments_lexer": "ipython3",
   "version": "3.9.20"
  }
 },
 "nbformat": 4,
 "nbformat_minor": 5
}
